{
 "cells": [
  {
   "cell_type": "code",
   "execution_count": 1,
   "metadata": {},
   "outputs": [],
   "source": [
    "participantes = [\n",
    "    \"manuel toral @jmtoralc\",\n",
    "    \"denny perez @dennyperez18\",\n",
    "    \"gaby villarreal @silfiderg\",\n",
    "    \"katia @guzmart_\"\n",
    "    \"anamhoo @anamhoo\",\n",
    "    \"jose @JO5_3\",\n",
    "    \"valery @valerybriz\",\n",
    "    \"don bacardiego @diegokermit\",\n",
    "    \"mariana data @marianadazaor\",\n",
    "    \"isaac gabriel gomez @dalggomez\",\n",
    "    \"9iseeaendo @giseleando\",\n",
    "    \"nosequien @leiitoogd\",\n",
    "    \"david h jimenez @dhumbertoj\",\n",
    "    \"a happy capybara @octavoCR\",\n",
    "    \"carlos garcia @carlos91GM\",\n",
    "    \"man lio @manlio_rolon\",\n",
    "    \"daniel vergara @dan1_net\",\n",
    "    \"edgar navarro @enavdesign\",\n",
    "    \"cactus @cactus_fran\",\n",
    "    \"jorgemonge @monge1h\",\n",
    "    \"diego @eldiegonuevo\",\n",
    "    \"jose @caaantu97\",\n",
    "    \"juanma @jmaquino\",\n",
    "    \"ricardo jarquin @ricardojarquin_\",\n",
    "    \"jimmy @jaime_zac\",\n",
    "]"
   ]
  },
  {
   "cell_type": "code",
   "execution_count": 2,
   "metadata": {},
   "outputs": [],
   "source": [
    "import numpy as np\n",
    "import arrow"
   ]
  },
  {
   "cell_type": "code",
   "execution_count": 3,
   "metadata": {},
   "outputs": [
    {
     "data": {
      "text/plain": [
       "'2019-08-20 10:20'"
      ]
     },
     "execution_count": 3,
     "metadata": {},
     "output_type": "execute_result"
    }
   ],
   "source": [
    "arrow.now(tz = \"US/Pacific\").strftime(\"%Y-%m-%d %H:%M\")"
   ]
  },
  {
   "cell_type": "code",
   "execution_count": 4,
   "metadata": {},
   "outputs": [
    {
     "data": {
      "text/plain": [
       "'jose @caaantu97'"
      ]
     },
     "execution_count": 4,
     "metadata": {},
     "output_type": "execute_result"
    }
   ],
   "source": [
    "np.random.choice(participantes)"
   ]
  },
  {
   "cell_type": "code",
   "execution_count": null,
   "metadata": {},
   "outputs": [],
   "source": []
  }
 ],
 "metadata": {
  "kernelspec": {
   "display_name": "Python 3",
   "language": "python",
   "name": "python3"
  },
  "language_info": {
   "codemirror_mode": {
    "name": "ipython",
    "version": 3
   },
   "file_extension": ".py",
   "mimetype": "text/x-python",
   "name": "python",
   "nbconvert_exporter": "python",
   "pygments_lexer": "ipython3",
   "version": "3.7.3"
  }
 },
 "nbformat": 4,
 "nbformat_minor": 2
}
