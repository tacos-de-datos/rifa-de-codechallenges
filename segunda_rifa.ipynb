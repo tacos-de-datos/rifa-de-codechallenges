{
 "cells": [
  {
   "cell_type": "code",
   "execution_count": 1,
   "metadata": {},
   "outputs": [
    {
     "data": {
      "text/plain": [
       "16"
      ]
     },
     "execution_count": 1,
     "metadata": {},
     "output_type": "execute_result"
    }
   ],
   "source": [
    "participantes = [\n",
    "    \"manuel toral @jmtoralc\",\n",
    "    \"YaNiPaper @YaNiPaper\",\n",
    "    \"Frida Ruh @FridaRuh\",\n",
    "    \"Wilson Blanco @blancowilson83\",\n",
    "    \"Yesi Days @silvercorp\",\n",
    "    \"Rodrigo Melgarejo @rodrigom94\", \n",
    "    \"Raul Ignacio @fuzzyrulo\",\n",
    "    \"Jaime L. Suncin @jl_suncin\",\n",
    "    \"Pretty Boy Floyd @lvixscab\",\n",
    "    \"Ricardo Jarquin @RicardoJarquin_\",\n",
    "    \"Daniel Avila @Daniel_AvOr\",\n",
    "    \"T013 @aT0le\",\n",
    "    \"anamhoo @anamhoo\", \n",
    "    \"Wilmer Diaz @wdiaznose\",\n",
    "    \"A happy capybara @octavoCR\",\n",
    "    \"David H Jimenez @dhumbertoj\",\n",
    "]\n",
    "\n",
    "len(participantes)"
   ]
  },
  {
   "cell_type": "code",
   "execution_count": 2,
   "metadata": {},
   "outputs": [],
   "source": [
    "import numpy as np\n",
    "import arrow"
   ]
  },
  {
   "cell_type": "code",
   "execution_count": 3,
   "metadata": {},
   "outputs": [
    {
     "data": {
      "text/plain": [
       "'2019-08-26 12:35'"
      ]
     },
     "execution_count": 3,
     "metadata": {},
     "output_type": "execute_result"
    }
   ],
   "source": [
    "arrow.now(tz = \"US/Pacific\").strftime(\"%Y-%m-%d %H:%M\")"
   ]
  },
  {
   "cell_type": "code",
   "execution_count": 4,
   "metadata": {},
   "outputs": [
    {
     "data": {
      "text/plain": [
       "'Frida Ruh @FridaRuh'"
      ]
     },
     "execution_count": 4,
     "metadata": {},
     "output_type": "execute_result"
    }
   ],
   "source": [
    "np.random.choice(participantes)"
   ]
  }
 ],
 "metadata": {
  "kernelspec": {
   "display_name": "Python 3",
   "language": "python",
   "name": "python3"
  },
  "language_info": {
   "codemirror_mode": {
    "name": "ipython",
    "version": 3
   },
   "file_extension": ".py",
   "mimetype": "text/x-python",
   "name": "python",
   "nbconvert_exporter": "python",
   "pygments_lexer": "ipython3",
   "version": "3.7.3"
  }
 },
 "nbformat": 4,
 "nbformat_minor": 2
}
